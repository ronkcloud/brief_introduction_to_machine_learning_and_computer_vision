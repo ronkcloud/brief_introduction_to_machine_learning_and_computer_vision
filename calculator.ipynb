{
 "cells": [
  {
   "cell_type": "code",
   "execution_count": null,
   "id": "7138b48b-da75-48fa-8a3d-543e003c6af3",
   "metadata": {},
   "outputs": [],
   "source": [
    "# Task 1, calculate 6 + 10 and 6 - 10 then display the result"
   ]
  },
  {
   "cell_type": "code",
   "execution_count": null,
   "id": "d76eaa52-1caa-49e2-a00b-26fd9c5174bd",
   "metadata": {},
   "outputs": [],
   "source": [
    "# solution 1:\n",
    "\n",
    "print(6, \"+\", 10, \"=\", 6 + 10)\n",
    "print(6, \"-\", 10, \"=\", 6 - 10)"
   ]
  },
  {
   "cell_type": "code",
   "execution_count": null,
   "id": "79b82080-d935-4df3-b2b6-8849108be335",
   "metadata": {},
   "outputs": [],
   "source": [
    "# solution 2:\n",
    "\n",
    "a = 6\n",
    "b = 10\n",
    "\n",
    "c1 = a + b\n",
    "c2 = a - b\n",
    "\n",
    "print(a, \"+\", b, \"=\", c1)\n",
    "print(a, \"-\", b, \"=\", c2)"
   ]
  },
  {
   "cell_type": "code",
   "execution_count": null,
   "id": "ab13dbab-88a2-4423-ba98-d322473f6827",
   "metadata": {},
   "outputs": [],
   "source": [
    "# Task 2, print first and third value on the following list\n",
    "\n",
    "list_a = [6, 12, 59, 3]\n",
    "list_b = [3, 42, 15, 9]"
   ]
  },
  {
   "cell_type": "code",
   "execution_count": null,
   "id": "c2afb4c2-1197-4d00-a4bd-384756dcd4eb",
   "metadata": {},
   "outputs": [],
   "source": [
    "# solution 1:\n",
    "\n",
    "print(list_a[0], list_a[2])\n",
    "print(list_b[0], list_b[2])"
   ]
  },
  {
   "cell_type": "code",
   "execution_count": null,
   "id": "ddef6505-692d-461a-a421-b179a6ffcc1c",
   "metadata": {},
   "outputs": [],
   "source": [
    "# Task 3, do addition and subtraction on that list"
   ]
  },
  {
   "cell_type": "code",
   "execution_count": null,
   "id": "568fc975-feab-4098-9642-93f0ecbcc39a",
   "metadata": {},
   "outputs": [],
   "source": [
    "# solution 1:\n",
    "\n",
    "c1 = list_a[0] + list_b[0]\n",
    "c2 = list_a[0] - list_b[0]\n",
    "\n",
    "print(list_a[0], \"+\", list_b[0], \"=\", c1)\n",
    "print(list_a[0], \"-\", list_b[0], \"=\", c2)\n",
    "\n",
    "c1 = list_a[1] + list_b[1]\n",
    "c2 = list_a[1] - list_b[1]\n",
    "\n",
    "print(list_a[1], \"+\", list_b[1], \"=\", c1)\n",
    "print(list_a[1], \"-\", list_b[1], \"=\", c2)\n",
    "\n",
    "c1 = list_a[2] + list_b[2]\n",
    "c2 = list_a[2] - list_b[2]\n",
    "\n",
    "print(list_a[2], \"+\", list_b[2], \"=\", c1)\n",
    "print(list_a[2], \"-\", list_b[2], \"=\", c2)\n",
    "\n",
    "c1 = list_a[3] + list_b[3]\n",
    "c2 = list_a[3] - list_b[3]\n",
    "\n",
    "print(list_a[3], \"+\", list_b[3], \"=\", c1)\n",
    "print(list_a[3], \"-\", list_b[3], \"=\", c2)"
   ]
  },
  {
   "cell_type": "code",
   "execution_count": null,
   "id": "0cc2ea9f-dde1-43cc-8f7f-f880d415d945",
   "metadata": {},
   "outputs": [],
   "source": [
    "# solution 2: (using function)\n",
    "\n",
    "def add(a, b):\n",
    "     c = a + b\n",
    "     print(a, \"+\", b, \"is\", c)\n",
    "\n",
    "def sub(a, b):\n",
    "     c = a - b\n",
    "     print(a, \"-\", b, \"is\", c)\n",
    "\n",
    "add(list_a[0], list_b[0])\n",
    "sub(list_a[0], list_b[0])\n",
    "\n",
    "add(list_a[1], list_b[1])\n",
    "sub(list_a[1], list_b[1])\n",
    "\n",
    "add(list_a[2], list_b[2])\n",
    "sub(list_a[2], list_b[2])\n",
    "\n",
    "add(list_a[3], list_b[3])\n",
    "sub(list_a[3], list_b[3])"
   ]
  },
  {
   "cell_type": "code",
   "execution_count": null,
   "id": "0f4fb2a5-bcdd-4af8-a0eb-ba7ba431eebb",
   "metadata": {},
   "outputs": [],
   "source": [
    "# task 4: print numbers from 0 to 3 using loop"
   ]
  },
  {
   "cell_type": "code",
   "execution_count": null,
   "id": "aa0eb6fc-bc58-454b-96b1-e6250902cb96",
   "metadata": {},
   "outputs": [],
   "source": [
    "# solution:\n",
    "\n",
    "for i in range(4):\n",
    "    print(i)"
   ]
  },
  {
   "cell_type": "code",
   "execution_count": null,
   "id": "4b6397f9-b0d2-4331-ad99-f8c1a02874f0",
   "metadata": {},
   "outputs": [],
   "source": [
    "# task 5: print numbers from 0 to 5 using loop"
   ]
  },
  {
   "cell_type": "code",
   "execution_count": null,
   "id": "2885fb3b-09df-4371-9f49-90dcd594626e",
   "metadata": {},
   "outputs": [],
   "source": [
    "# solution:\n",
    "\n",
    "for i in range(6):\n",
    "    print(i)"
   ]
  },
  {
   "cell_type": "code",
   "execution_count": null,
   "id": "16eb8809-ee01-4cd2-addc-b3369bd3a816",
   "metadata": {},
   "outputs": [],
   "source": [
    "# task 6: print each values of the list using loop"
   ]
  },
  {
   "cell_type": "code",
   "execution_count": null,
   "id": "52953181-7e3f-49c3-a499-8774c2d2e252",
   "metadata": {},
   "outputs": [],
   "source": [
    "# solution:\n",
    "\n",
    "for i in range(4):\n",
    "    print(list_a[i], list_b[i])"
   ]
  },
  {
   "cell_type": "code",
   "execution_count": null,
   "id": "785c6cfb-1585-4dad-b886-2d5432883535",
   "metadata": {},
   "outputs": [],
   "source": [
    "# task 7: calculate addition and subtraction on each list using loop and function"
   ]
  },
  {
   "cell_type": "code",
   "execution_count": null,
   "id": "1796c339-a209-4936-bbcd-8e6e5190b7e6",
   "metadata": {},
   "outputs": [],
   "source": [
    "# solution:\n",
    "\n",
    "for i in range(4):\n",
    "    add(list_a[i], list_b[i])\n",
    "    sub(list_a[i], list_b[i])"
   ]
  },
  {
   "cell_type": "code",
   "execution_count": null,
   "id": "2b696fcc-0f45-4dbf-95d4-82e16d5587c5",
   "metadata": {},
   "outputs": [],
   "source": [
    "# task 8: calculate only list number bigger than 2\n",
    "\n",
    "for i in range(4):\n",
    "    if i > 2:\n",
    "        add(list_a[i], list_b[i])\n",
    "        sub(list_a[i], list_b[i])"
   ]
  }
 ],
 "metadata": {
  "kernelspec": {
   "display_name": "Python 3 (ipykernel)",
   "language": "python",
   "name": "python3"
  },
  "language_info": {
   "codemirror_mode": {
    "name": "ipython",
    "version": 3
   },
   "file_extension": ".py",
   "mimetype": "text/x-python",
   "name": "python",
   "nbconvert_exporter": "python",
   "pygments_lexer": "ipython3",
   "version": "3.10.11"
  }
 },
 "nbformat": 4,
 "nbformat_minor": 5
}
